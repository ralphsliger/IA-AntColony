{
 "cells": [
  {
   "cell_type": "markdown",
   "metadata": {},
   "source": [
    " # Ant Colony Algorithm \n",
    " Estudiantes: Ralph Sliger, Andres Castañeda"
   ]
  },
  {
   "cell_type": "markdown",
   "metadata": {},
   "source": [
    "El algoritmo de la colonia de hormigas (Ant Colony Optimization, ACO) es una técnica probabilística para solucionar problemas computacionales que pueden reducirse a buscar los mejores caminos o rutas en grafos"
   ]
  },
  {
   "cell_type": "markdown",
   "metadata": {},
   "source": [
    "La idea original proviene de la observación de la explotación de los recursos alimentarios entre hormigas, en el que las habilidades cognitivas de las hormigas son individualmente limitadas y en conjunto son capaces de buscar el menor camino existente entre la fuente de comida y su nido o colonia"
   ]
  },
  {
   "cell_type": "code",
   "execution_count": 2,
   "metadata": {},
   "outputs": [],
   "source": [
    "#Librerias a usar\n",
    "import math\n",
    "from random import randint\n",
    "from random import random"
   ]
  },
  {
   "cell_type": "markdown",
   "metadata": {},
   "source": [
    "Se tiene:\n",
    "\n",
    "• Matriz de distancias entre las ciudades (Matriz de adyacencia).\n",
    "\n",
    "• Heurística local (1/Distancia) para el tramo que va desde la ciudad i hasta la ciudad j . [𝜂𝑖𝑗]\n",
    "\n",
    "• Cantidad de feromona en el tramo que va desde la ciudad i hasta la ciudad j. [𝜏𝑖𝑗]"
   ]
  },
  {
   "cell_type": "code",
   "execution_count": 3,
   "metadata": {},
   "outputs": [],
   "source": [
    "#Funciones\n",
    "\n",
    "def distancesFromCoords():\n",
    "    f = open('berlin52.tsp')\n",
    "    data = [line.replace(\"\\n\", \"\").split(\" \")[1:] for line in f.readlines()[6:58]]\n",
    "    coords = list(map(lambda x: [float(x[0]), float(x[1])], data))\n",
    "    distances = []\n",
    "    for i in range(len(coords)):\n",
    "        row = []\n",
    "        for j in range(len(coords)):\n",
    "            row.append(math.sqrt((coords[i][0] - coords[j][0]) ** 2 + (coords[i][1] - coords[j][1]) ** 2))\n",
    "        distances.append(row)\n",
    "    return distances\n",
    "\n",
    "def getMatrixDictances(m):       #Convierte matriz adyacencia a matriz distancia[𝜂𝑖𝑗].\n",
    "    for i in range(len(m)):\n",
    "        for j in range(len(m[i])):\n",
    "            if(m[i][j] != 0):\n",
    "                m[i][j] = 1/m[i][j]\n",
    "    return m\n",
    "\n",
    "def getInitialCity(m):\n",
    "    n = randint(0,len(m)-1)\n",
    "    cities = list(range(0, len(m)))\n",
    "    cities.remove(n)\n",
    "    return n, cities\n",
    "\n",
    "def getNextCity(aC, cL, phero, m):\n",
    "    sum = 0\n",
    "    for i in range(len(cL)):\n",
    "        sum += (((phero[aC][cL[i]])**alpha) * ((m[aC][cL[i]])**beta))\n",
    "\n",
    "    probability = []\n",
    "\n",
    "    for i in range(len(cL)):\n",
    "        pr = ((phero[aC][cL[i]])**alpha) * ((m[aC][cL[i]])**beta) / sum\n",
    "        probability.append(pr)\n",
    "\n",
    "    n = random()\n",
    "\n",
    "    acumProbabilities = probability[0]; i = 0\n",
    "    while acumProbabilities <= n and i < len(cL)-1:\n",
    "        i+=1\n",
    "        acumProbabilities += probability[i]\n",
    "    nCity = cL[i]\n",
    "    cL.remove(cL[i])\n",
    "    return nCity, cL\n",
    "\n",
    "def getTravelCost(l, matrix):\n",
    "        sum = 0\n",
    "        for i in range(0, len(l)-1):\n",
    "            sum += matrix[l[i]][l[i + 1]]\n",
    "        return sum\n",
    "\n",
    "def updatePheromonesMatrix(r, p, c):\n",
    "    for i in range(0, len(r) - 1):\n",
    "        p[r[i]][r[i+1]] += 1/c\n",
    "    return p\n",
    "\n",
    "def evapPheromones(p):\n",
    "    ro = 0.5\n",
    "    for i in range(len(p)): \n",
    "        for j in range(len(p[i])):\n",
    "            p[i][j] = (1-ro)*p[i][j]\n",
    "    return p\n",
    "\n",
    "\n",
    "\n",
    "\n",
    "\n"
   ]
  },
  {
   "cell_type": "code",
   "execution_count": 7,
   "metadata": {},
   "outputs": [
    {
     "name": "stdout",
     "output_type": "stream",
     "text": [
      "Cantidad de Hormigas Generada:  5\n",
      "[15, 43, 33, 34, 35, 38, 39, 37, 36, 47, 23, 4, 14, 5, 3, 24, 45, 0, 21, 48, 31, 44, 18, 40, 7, 9, 8, 42, 32, 50, 11, 27, 26, 25, 46, 12, 13, 51, 10, 28, 49, 19, 22, 30, 17, 2, 16, 20, 29, 41, 6, 1, 15]\n",
      "Costo de mejor la mejor ruta: \n",
      " 8925.770421621854\n"
     ]
    }
   ],
   "source": [
    "pheromones = []\n",
    "routes = []  \n",
    "availableCities = []        \n",
    "alpha = 1\n",
    "beta = 20\n",
    "aAnts = randint(2,6)                #Numero aleatorio de hormigas\n",
    "matrix = distancesFromCoords()\n",
    "localHeuristics = distancesFromCoords()\n",
    "localHeuristics = getMatrixDictances(localHeuristics)     #De adyacencia a heuristica local ( 1/d) .\n",
    "\n",
    "print(\"Cantidad de Hormigas Generada: \", aAnts)\n",
    "\n",
    "for i in range(len(localHeuristics)):   #Genera la matriz de feromonoas.\n",
    "    a = [0.0000001]*len(localHeuristics[i])\n",
    "    pheromones.append(a)\n",
    "\n",
    "for i in range(aAnts):          #Genera hormiga para iniciar trayecto\n",
    "    aList = []\n",
    "    aRoutes, aCities = getInitialCity(matrix)\n",
    "    aList.append(aRoutes)\n",
    "    routes.append(aList)\n",
    "    availableCities.append(aCities)\n",
    "    \n",
    "for iterations in range(0,300):\n",
    "    while len(availableCities[-1]) > 0:\n",
    "        for i in range(aAnts):\n",
    "            if len(availableCities[i]) > 0:\n",
    "                nextCity, availableCities[i] = getNextCity(routes[i][-1], availableCities[i], pheromones, localHeuristics)\n",
    "                routes[i].append(nextCity)\n",
    "    lowestCost = getTravelCost(routes[0], matrix)\n",
    "    bestRoute = routes[0]\n",
    "    for i in routes:\n",
    "        if i.count(i[0]) != 2:\n",
    "            i.append(i[0])\n",
    "        newCost = (getTravelCost(i, matrix))\n",
    "        pheromones = updatePheromonesMatrix(i, pheromones, newCost)\n",
    "        if newCost < lowestCost:\n",
    "            lowestCost = newCost\n",
    "            bestRoute = i\n",
    "    if iterations % 3 == 0:\n",
    "        pheromones = evapPheromones(pheromones)\n",
    "            \n",
    "print(bestRoute)\n",
    "points = []\n",
    "for i in bestRoute:\n",
    "    points.append(i)\n",
    "\n",
    "print(\"Costo de mejor la mejor ruta: \\n\",lowestCost)\n",
    "\n"
   ]
  },
  {
   "cell_type": "code",
   "execution_count": null,
   "metadata": {},
   "outputs": [],
   "source": []
  },
  {
   "cell_type": "code",
   "execution_count": null,
   "metadata": {},
   "outputs": [],
   "source": []
  }
 ],
 "metadata": {
  "kernelspec": {
   "display_name": "Python 3",
   "language": "python",
   "name": "python3"
  },
  "language_info": {
   "codemirror_mode": {
    "name": "ipython",
    "version": 3
   },
   "file_extension": ".py",
   "mimetype": "text/x-python",
   "name": "python",
   "nbconvert_exporter": "python",
   "pygments_lexer": "ipython3",
   "version": "3.7.3"
  }
 },
 "nbformat": 4,
 "nbformat_minor": 2
}
